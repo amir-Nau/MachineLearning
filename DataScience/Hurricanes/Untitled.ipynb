{
 "cells": [
  {
   "cell_type": "code",
   "execution_count": 13,
   "metadata": {},
   "outputs": [
    {
     "data": {
      "text/plain": [
       "3"
      ]
     },
     "execution_count": 13,
     "metadata": {},
     "output_type": "execute_result"
    }
   ],
   "source": [
    "def overlaps(a, b):\n",
    "    start_a, end_a = a\n",
    "    start_b, end_b = b\n",
    "    # It doesn't overlap if it's like this:\n",
    "    #   |start_a .... end_a|  <---> |start_b ... end_b|\n",
    "    # or like this:\n",
    "    #   |start_b .... end_b|  <---> |start_a ... end_a|\n",
    "    # so return not or either of these\n",
    "    return not (end_a < start_b or start_a > end_b)\n",
    "\n",
    "def max_overlapping(intervals):\n",
    "    current_max = 0\n",
    "    for interval in intervals:\n",
    "        num_overlapping = sum(overlaps(interval, other_interval)\n",
    "            for other_interval in intervals\n",
    "            if interval is not other_interval)\n",
    "        current_max = max(current_max, num_overlapping)\n",
    "    return current_max\n",
    "\n",
    "\n",
    "i = [(60,75),(0,50),(0,150),(85,100)]\n",
    "max_overlapping(i)"
   ]
  },
  {
   "cell_type": "code",
   "execution_count": 20,
   "metadata": {},
   "outputs": [
    {
     "name": "stdout",
     "output_type": "stream",
     "text": [
      "[0, 0, 60, 85, 101]\n",
      "[50, 75, 100, 110, 150]\n",
      "overlaps 1 \n",
      " max 1\n",
      "overlaps 2 \n",
      " max 2\n",
      "overlaps 2 \n",
      " max 2\n",
      "overlaps 2 \n",
      " max 2\n",
      "overlaps 2 \n",
      " max 2\n"
     ]
    },
    {
     "data": {
      "text/plain": [
       "2"
      ]
     },
     "execution_count": 20,
     "metadata": {},
     "output_type": "execute_result"
    }
   ],
   "source": [
    "\n",
    "\n",
    "# One solution is to extract the start times and end times of all the intervals and sort them. Then we can start two pointers on each list, and consider the following:\n",
    "\n",
    "# If the current start is before the current end, then we have a new overlap. Increment the start pointer.\n",
    "# If the current start is after the current end, then our overlap closes. Increment the end pointer.\n",
    "# All that's left to do is keep a couple variables to keep track of the maximum number of overlaps we've seen so far and the current number of overlaps.\n",
    "\n",
    "\n",
    "\n",
    "\n",
    "\n",
    "def max_overlapping(intervals):\n",
    "    starts = sorted(start for start, end in intervals)\n",
    "    ends = sorted(end for start, end in intervals)\n",
    "    print(starts)\n",
    "    print(ends)\n",
    "    current_max = 0\n",
    "    current_overlap = 0\n",
    "    i, j = 0, 0\n",
    "    while i < len(intervals) and j < len(intervals):\n",
    "        if starts[i] < ends[j]:\n",
    "            current_overlap += 1\n",
    "            current_max = max(current_max, current_overlap)\n",
    "            print(f\"overlaps {current_overlap} \\n max {current_max}\")\n",
    "            i += 1\n",
    "        else:\n",
    "            current_overlap -= 1\n",
    "            j += 1\n",
    "    return current_max\n",
    "i = [(60,75),(0,50),(0,150),(85,100),(101,110)]\n",
    "max_overlapping(i)\n",
    "\n"
   ]
  },
  {
   "cell_type": "code",
   "execution_count": null,
   "metadata": {},
   "outputs": [],
   "source": []
  }
 ],
 "metadata": {
  "kernelspec": {
   "display_name": "Python 3",
   "language": "python",
   "name": "python3"
  },
  "language_info": {
   "codemirror_mode": {
    "name": "ipython",
    "version": 3
   },
   "file_extension": ".py",
   "mimetype": "text/x-python",
   "name": "python",
   "nbconvert_exporter": "python",
   "pygments_lexer": "ipython3",
   "version": "3.7.4"
  }
 },
 "nbformat": 4,
 "nbformat_minor": 2
}
